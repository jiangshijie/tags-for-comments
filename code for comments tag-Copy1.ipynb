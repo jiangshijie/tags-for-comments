{
 "cells": [
  {
   "cell_type": "code",
   "execution_count": 1,
   "metadata": {
    "collapsed": true
   },
   "outputs": [],
   "source": [
    "import pyodbc\n",
    "import nltk\n",
    "import pandas as pd\n",
    "import numpy as np\n",
    "import re\n",
    "from pandas.io import sql\n",
    "from collections import defaultdict\n",
    "from nltk.corpus import wordnet as wn\n",
    "import csv\n",
    "from scipy import spatial\n",
    "from PyDictionary import PyDictionary\n"
   ]
  },
  {
   "cell_type": "markdown",
   "metadata": {},
   "source": [
    "# fuction for tag sentence"
   ]
  },
  {
   "cell_type": "code",
   "execution_count": 2,
   "metadata": {
    "collapsed": true
   },
   "outputs": [],
   "source": [
    "def tag(text):\n",
    "    text = nltk.word_tokenize(text)\n",
    "    return [list(i) for i in zip(*nltk.pos_tag(text))] \n",
    "    # output a list like [['it', 'is', 'easy', 'to'], ['PRP', 'VBZ', 'JJ', 'TO']]"
   ]
  },
  {
   "cell_type": "markdown",
   "metadata": {},
   "source": [
    "## functions for finding pattern in sentence\n"
   ]
  },
  {
   "cell_type": "markdown",
   "metadata": {},
   "source": [
    "mfind is to find patterns like \"it is easy to install\"\n",
    "\n",
    "mfind2 is to find pattens like \"it is great\""
   ]
  },
  {
   "cell_type": "code",
   "execution_count": 3,
   "metadata": {
    "collapsed": true
   },
   "outputs": [],
   "source": [
    "def mfind(tr,ts,rep):\n",
    "    ## this is to find the meaningful sentence in the comments using given pattern rep\n",
    "    # tr, ts is two list from tag, rep is a pattern from\n",
    "    m_list = []\n",
    "    p_list = []\n",
    "    #this is the list of meaningful sentence\n",
    "    ts_string = \"+\".join(ts) # ts joined by \"+\", so could be used to find pattern\n",
    "    pattern_lst = rep.findall(ts_string)\n",
    "    for pattern in pattern_lst:\n",
    "        #pattern is a string like 'PRP+VBZ+JJ'\n",
    "        tmp = pattern.split('+')\n",
    "        plen = len(tmp)\n",
    "        start = tmp[0] # get the first element of the pattern\n",
    "        for idx,item in enumerate(ts):\n",
    "            #print item,tmp,ts[idx:idx+plen-1] \n",
    "            if (item == start) and (ts[idx:idx+plen] == tmp):\n",
    "                m_list.append(tr[idx:idx+plen])\n",
    "                p_list.append(tmp)\n",
    "    return m_list,p_list\n",
    "    # m_list is a list of list [['It', \"'s\", 'stylish'], ['it', 'was', 'great']]\n",
    "    # p_list is also the same but like [['JJ', 'TO', 'VB'],['JJ', 'TO', 'VB']]\n"
   ]
  },
  {
   "cell_type": "code",
   "execution_count": 4,
   "metadata": {
    "collapsed": true
   },
   "outputs": [],
   "source": [
    "def mfind2(tr,ts,rep):\n",
    "    ## this is to find the meaningful sentence in the comments using given pattern rep\n",
    "    # tr, ts is two list from tag, rep is a pattern from\n",
    "    m_list = []\n",
    "    p_list = []\n",
    "    #this is the list of meaningful sentence\n",
    "    ts_string = \"+\".join(ts) # ts joined by \"+\", so could be used to find pattern\n",
    "    pattern_lst = rep.findall(ts_string)\n",
    "    for pattern_tuple in pattern_lst:\n",
    "        #pattern_lst is like [('', 'NN+VBD+JJ', ''), ('', 'NNP+VBN+JJ', ''), ('', '', 'NNP+VBZ+JJ')]\n",
    "        for pattern in pattern_tuple:\n",
    "            if pattern !='':\n",
    "                #pattern is a string like 'PRP+VBZ+JJ'\n",
    "                tmp = pattern.split('+')\n",
    "                plen = len(tmp)\n",
    "                start = tmp[0] # get the first element of the pattern\n",
    "                for idx,item in enumerate(ts):\n",
    "                    #print item,tmp,ts[idx:idx+plen-1] \n",
    "                    if (item == start) and (ts[idx:idx+plen] == tmp):\n",
    "                        m_list.append(tr[idx:idx+plen])\n",
    "                        p_list.append(tmp)\n",
    "    return m_list,p_list\n",
    "    # m_list is a list of list [['It', \"'s\", 'stylish'], ['it', 'was', 'great']]\n",
    "    # p_list is also the same but like [['JJ', 'TO', 'VB'],['JJ', 'TO', 'VB']]\n"
   ]
  },
  {
   "cell_type": "markdown",
   "metadata": {},
   "source": [
    "# get the data\n",
    "see the folder"
   ]
  },
  {
   "cell_type": "markdown",
   "metadata": {},
   "source": [
    "# data cleaning"
   ]
  },
  {
   "cell_type": "code",
   "execution_count": 7,
   "metadata": {
    "collapsed": false
   },
   "outputs": [],
   "source": [
    "comments = df.PrvPrComments.values\n",
    "comments = [re.split('[,.!?;]',i) for i in comments if i >0]\n",
    "\n",
    "comments = reduce(lambda x,y:x+y,comments)\n",
    "comments = [i.strip() for i in comments if i != ''];comments = [i for i in comments if i != '']\n",
    "# convert them into lower case\n",
    "comments = [i.lower() for i in comments]"
   ]
  },
  {
   "cell_type": "code",
   "execution_count": 8,
   "metadata": {
    "collapsed": true
   },
   "outputs": [],
   "source": [
    "## save data \n",
    "pd.to_pickle(comments,'d:\\comments for tag')"
   ]
  },
  {
   "cell_type": "code",
   "execution_count": null,
   "metadata": {
    "collapsed": false
   },
   "outputs": [],
   "source": [
    "## load data from pickle\n",
    "comments = pd.read_pickle(r'd:\\comments for tag')"
   ]
  },
  {
   "cell_type": "markdown",
   "metadata": {},
   "source": [
    "# syntax analysis and pattern find"
   ]
  },
  {
   "cell_type": "code",
   "execution_count": 9,
   "metadata": {
    "collapsed": true
   },
   "outputs": [],
   "source": [
    "# pattern for something is somelike\n",
    "rep =re.compile(r'(PRP\\+VB[DPZN]\\+JJ)\\+[^T]|(NNP?S?\\+VB[DPZN]\\+JJ)\\+[^T]|(NNP?S?\\+VB[DPZN]\\+JJ)$')\n",
    "#pattern for somelike to do something\n",
    "rep2 = re.compile('NNP?S?\\+VB[DPZN]\\+JJ\\+TO\\+VB\\+RB|NNP?S?\\+VB[DPZN]\\+JJ\\+TO\\+VB|JJ\\+TO\\+VB\\+RB|JJ\\+TO\\+VB')"
   ]
  },
  {
   "cell_type": "code",
   "execution_count": 10,
   "metadata": {
    "collapsed": false
   },
   "outputs": [],
   "source": [
    "pm1 = []\n",
    "ps1 = []\n",
    "pm2 = []\n",
    "ps2 = []\n",
    "for i in comments:\n",
    "    #print i\n",
    "    tr,ts = tag(i)\n",
    "    m,s = mfind2(tr,ts,rep)\n",
    "    if bool(m):\n",
    "        pm1+=m\n",
    "        ps1+=s\n",
    "    m,s = mfind(tr,ts,rep2)\n",
    "    if bool(m):\n",
    "        pm2+=m\n",
    "        ps2+=s"
   ]
  },
  {
   "cell_type": "code",
   "execution_count": 12,
   "metadata": {
    "collapsed": false
   },
   "outputs": [
    {
     "data": {
      "text/plain": [
       "([[u'gray', u'is', u'nice'],\n",
       "  [u'it', u\"'s\", u'such'],\n",
       "  [u'bed', u'is', u'excellent'],\n",
       "  [u'i', u'was', u'careful'],\n",
       "  [u'headboard', u'is', u'adjustable']],\n",
       " [['NN', 'VBZ', 'JJ'],\n",
       "  ['PRP', 'VBZ', 'JJ'],\n",
       "  ['NN', 'VBZ', 'JJ'],\n",
       "  ['NN', 'VBD', 'JJ'],\n",
       "  ['NN', 'VBZ', 'JJ']],\n",
       " [[u'able', u'to', u'put'],\n",
       "  [u'easy', u'to', u'put', u'together'],\n",
       "  [u'easy', u'to', u'put', u'together'],\n",
       "  [u'much', u'to', u'bedroom'],\n",
       "  [u'negative', u'to', u'say']],\n",
       " [['JJ', 'TO', 'VB'],\n",
       "  ['JJ', 'TO', 'VB', 'RB'],\n",
       "  ['JJ', 'TO', 'VB', 'RB'],\n",
       "  ['JJ', 'TO', 'VB'],\n",
       "  ['JJ', 'TO', 'VB']])"
      ]
     },
     "execution_count": 12,
     "metadata": {},
     "output_type": "execute_result"
    }
   ],
   "source": [
    "pm1[:5],ps1[:5],pm2[:5],ps2[:5]"
   ]
  },
  {
   "cell_type": "code",
   "execution_count": 13,
   "metadata": {
    "collapsed": true
   },
   "outputs": [],
   "source": [
    "from collections import Counter,defaultdict"
   ]
  },
  {
   "cell_type": "code",
   "execution_count": 14,
   "metadata": {
    "collapsed": false
   },
   "outputs": [
    {
     "name": "stdout",
     "output_type": "stream",
     "text": [
      "[(3, 327)]\n",
      "[(3, 128), (4, 85), (5, 20), (6, 6)]\n"
     ]
    }
   ],
   "source": [
    "print Counter(map(len,pm1)).most_common()\n",
    "print Counter(map(len,pm2)).most_common()"
   ]
  },
  {
   "cell_type": "markdown",
   "metadata": {},
   "source": [
    "# build the obj and adj list from given pattern"
   ]
  },
  {
   "cell_type": "code",
   "execution_count": 15,
   "metadata": {
    "collapsed": false
   },
   "outputs": [],
   "source": [
    "d1 = defaultdict(list)\n",
    "for o,i,a in pm1:\n",
    "    d1[o.lower()].append(a)"
   ]
  },
  {
   "cell_type": "code",
   "execution_count": 16,
   "metadata": {
    "collapsed": false
   },
   "outputs": [
    {
     "data": {
      "text/plain": [
       "defaultdict(list,\n",
       "            {u'assembly': [u'easy',\n",
       "              u'easy',\n",
       "              u'easy',\n",
       "              u'easy',\n",
       "              u'easy',\n",
       "              u'easy'],\n",
       "             u'beautiful': [u'frame'],\n",
       "             u'bed': [u'excellent',\n",
       "              u'great',\n",
       "              u'beautiful',\n",
       "              u'funny',\n",
       "              u'amazing',\n",
       "              u'great',\n",
       "              u'gorgeous',\n",
       "              u'beautiful',\n",
       "              u'pretty',\n",
       "              u'great',\n",
       "              u'beautiful',\n",
       "              u'gorgeous',\n",
       "              u'fantastic',\n",
       "              u'great',\n",
       "              u'sturdy',\n",
       "              u'sturdy',\n",
       "              u'sturdy',\n",
       "              u'great',\n",
       "              u'beautiful',\n",
       "              u'great',\n",
       "              u'perfect',\n",
       "              u'sturdy',\n",
       "              u'big',\n",
       "              u'beautiful',\n",
       "              u'nice',\n",
       "              u'perfect',\n",
       "              u'beautiful',\n",
       "              u'sturdy',\n",
       "              u'beautiful',\n",
       "              u'wonderful',\n",
       "              u'great',\n",
       "              u'awesome',\n",
       "              u'beautiful',\n",
       "              u'gorgeous',\n",
       "              u'awesome',\n",
       "              u'incredible',\n",
       "              u'beautiful',\n",
       "              u'gorgeous',\n",
       "              u'gorgeous',\n",
       "              u'awesome',\n",
       "              u'great',\n",
       "              u'sturdy',\n",
       "              u'gorgeous',\n",
       "              u'beautiful',\n",
       "              u'beautiful',\n",
       "              u'big',\n",
       "              u'big',\n",
       "              u'nice',\n",
       "              u'awesome',\n",
       "              u'great',\n",
       "              u'solid',\n",
       "              u'beautiful',\n",
       "              u'perfect',\n",
       "              u'sturdy',\n",
       "              u'gorgeous',\n",
       "              u'gorgeous',\n",
       "              u'great',\n",
       "              u'ok',\n",
       "              u'sooooooo',\n",
       "              u'gorgeous',\n",
       "              u'sturdy',\n",
       "              u'great',\n",
       "              u'great',\n",
       "              u'pretty',\n",
       "              u'great',\n",
       "              u'nice',\n",
       "              u'fantastic',\n",
       "              u'awesome',\n",
       "              u'beautiful',\n",
       "              u'sexy',\n",
       "              u'awesme',\n",
       "              u'beautiful',\n",
       "              u'great'],\n",
       "             u'bedframe': [u'flush'],\n",
       "             u'boxes': [u'heavy', u'super'],\n",
       "             u'charcoal': [u'many'],\n",
       "             u'color': [u'beautiful',\n",
       "              u'gorgeous',\n",
       "              u'fantastic',\n",
       "              u'perfect',\n",
       "              u'pretty',\n",
       "              u'great',\n",
       "              u'perfect',\n",
       "              u'bold',\n",
       "              u'perfect',\n",
       "              u'superb',\n",
       "              u'beautiful',\n",
       "              u'perfect',\n",
       "              u'beautiful',\n",
       "              u'beautiful'],\n",
       "             u'comforter': [u'i'],\n",
       "             u'construction': [u'good', u'sturdy', u'sturdy'],\n",
       "             u'daughter': [u'it-has'],\n",
       "             u'delivery': [u'super',\n",
       "              u'great',\n",
       "              u'quick',\n",
       "              u'quick',\n",
       "              u'terrible',\n",
       "              u'terrible',\n",
       "              u'terrible'],\n",
       "             u'directions': [u'horribleness', u'horrible'],\n",
       "             u'everything': [u'intact', u'fantastic', u'solid'],\n",
       "             u'fabric': [u'nice',\n",
       "              u'sturdy',\n",
       "              u'amazing-',\n",
       "              u'nice',\n",
       "              u'nice',\n",
       "              u'strong',\n",
       "              u'durable',\n",
       "              u'nice',\n",
       "              u'good',\n",
       "              u'nice',\n",
       "              u'nice',\n",
       "              u'gorgeous',\n",
       "              u'gorgeous',\n",
       "              u'nice',\n",
       "              u'nice',\n",
       "              u'good'],\n",
       "             u'felisa': [u'wingback'],\n",
       "             u'fram': [u'super'],\n",
       "             u'frame': [u'sturdy', u'sturdy', u'sturdy'],\n",
       "             u'gray': [u'nice', u'such'],\n",
       "             u'hardware': [u'short'],\n",
       "             u'he': [u'fine'],\n",
       "             u'headboard': [u'adjustable',\n",
       "              u'perfect',\n",
       "              u'adjustable',\n",
       "              u'adjustable',\n",
       "              u'perfect',\n",
       "              u'high',\n",
       "              u'high',\n",
       "              u'visible',\n",
       "              u'adjustable',\n",
       "              u'great',\n",
       "              u'great',\n",
       "              u'nice',\n",
       "              u'great',\n",
       "              u'adjustable'],\n",
       "             u'height': [u'great'],\n",
       "             u'heights': [u'available'],\n",
       "             u'holes': [u'open', u'bizarre'],\n",
       "             u'husband': [u'super', u'good', u'handy'],\n",
       "             u'i': [u'careful',\n",
       "              u'hesitant',\n",
       "              u'happy',\n",
       "              u'happy',\n",
       "              u'full',\n",
       "              u'nervous',\n",
       "              u'able',\n",
       "              u'nervous',\n",
       "              u'nervous',\n",
       "              u'nervous',\n",
       "              u'soo',\n",
       "              u'apprehensive',\n",
       "              u'other',\n",
       "              u'full',\n",
       "              u'skeptical',\n",
       "              u'wrong',\n",
       "              u'ecstatic',\n",
       "              u'sure',\n",
       "              u'happy',\n",
       "              u'nervous',\n",
       "              u'nervous',\n",
       "              u'super',\n",
       "              u'full',\n",
       "              u'glad',\n",
       "              u'satisfied',\n",
       "              u'skeptical',\n",
       "              u'full',\n",
       "              u'glad'],\n",
       "             u'instructions': [u'straight',\n",
       "              u'clear',\n",
       "              u'easy',\n",
       "              u'clear',\n",
       "              u'direct'],\n",
       "             u'it': [u'such',\n",
       "              u'sturdy',\n",
       "              u'awesome',\n",
       "              u'flat',\n",
       "              u'super',\n",
       "              u'such',\n",
       "              u'perfect',\n",
       "              u'sturdy',\n",
       "              u'fabulous',\n",
       "              u'perfect',\n",
       "              u'fit',\n",
       "              u'super',\n",
       "              u'worth',\n",
       "              u'equal',\n",
       "              u'expensive',\n",
       "              u'mega',\n",
       "              u'sturdy',\n",
       "              u'easy',\n",
       "              u'beautiful',\n",
       "              u'easy',\n",
       "              u'awesome',\n",
       "              u'light',\n",
       "              u'nice',\n",
       "              u'sturdy',\n",
       "              u'high',\n",
       "              u'beautiful',\n",
       "              u'worth',\n",
       "              u'super',\n",
       "              u'high',\n",
       "              u'super',\n",
       "              u'high',\n",
       "              u'great',\n",
       "              u'great',\n",
       "              u'stylish',\n",
       "              u'great',\n",
       "              u'expensive',\n",
       "              u'gorgeous',\n",
       "              u'nice',\n",
       "              u'phenomenal',\n",
       "              u'i',\n",
       "              u'chic',\n",
       "              u'good',\n",
       "              u'good',\n",
       "              u'beautiful',\n",
       "              u'pretty',\n",
       "              u'such',\n",
       "              u'perfect'],\n",
       "             u'linen': [u'gorgeous', u'good'],\n",
       "             u'look': [u'grand'],\n",
       "             u'mama': [u'happy'],\n",
       "             u'material': [u'nice', u'great', u'great', u'great', u'thick'],\n",
       "             u'mattress': [u'great'],\n",
       "             u'measurements': [u'accurate'],\n",
       "             u'people': [u'bad', u'bad'],\n",
       "             u'piece': [u'available'],\n",
       "             u'price': [u'excellent',\n",
       "              u'great',\n",
       "              u'unsurpassed',\n",
       "              u'fabulous',\n",
       "              u'great',\n",
       "              u'great',\n",
       "              u'amazing',\n",
       "              u'great',\n",
       "              u'right',\n",
       "              u'great',\n",
       "              u'excellent',\n",
       "              u'right',\n",
       "              u'great'],\n",
       "             u'product': [u'beautiful', u'good'],\n",
       "             u'quality': [u'pristine',\n",
       "              u'great',\n",
       "              u'great',\n",
       "              u'good',\n",
       "              u'ok',\n",
       "              u'amazing',\n",
       "              u'incredible',\n",
       "              u'good',\n",
       "              u'great',\n",
       "              u'superb'],\n",
       "             u'representative': [u'apologetic'],\n",
       "             u'rest': [u'pretty'],\n",
       "             u'reviews': [u'awesome'],\n",
       "             u'room': [u'small'],\n",
       "             u'screws': [u'full'],\n",
       "             u'service': [u'awesome', u'excellent'],\n",
       "             u'setup': [u'simple'],\n",
       "             u'she': [u'little-now'],\n",
       "             u'shipping': [u'nice',\n",
       "              u'quick',\n",
       "              u'quick',\n",
       "              u'great',\n",
       "              u'free',\n",
       "              u'free',\n",
       "              u'quick',\n",
       "              u'quick'],\n",
       "             u'side': [u'great'],\n",
       "             u'size': [u'standard', u'good'],\n",
       "             u'sizing': [u'perfect'],\n",
       "             u'slats': [u'worth', u'adjustable', u'visible'],\n",
       "             u'spring': [u'weak'],\n",
       "             u'support': [u'amazing'],\n",
       "             u'tables': [u'close'],\n",
       "             u'tears': [u'magic'],\n",
       "             u'they': [u'super', u'handy', u'flush'],\n",
       "             u'thing': [u'solid'],\n",
       "             u'time': [u'great'],\n",
       "             u'tufts': [u'beautiful'],\n",
       "             u'upholstery': [u'beautiful', u'great', u'excellent'],\n",
       "             u'wayfair': [u'great', u'good'],\n",
       "             u'we': [u'tiffany', u'short', u'impressed', u'many'],\n",
       "             u'wife': [u'happy'],\n",
       "             u'wood': [u'poor'],\n",
       "             u'you': [u'uneven', u'calm']})"
      ]
     },
     "execution_count": 16,
     "metadata": {},
     "output_type": "execute_result"
    }
   ],
   "source": [
    "d1"
   ]
  },
  {
   "cell_type": "markdown",
   "metadata": {},
   "source": [
    "# function generate the graph"
   ]
  },
  {
   "cell_type": "code",
   "execution_count": 17,
   "metadata": {
    "collapsed": true
   },
   "outputs": [],
   "source": [
    "d = PyDictionary()"
   ]
  },
  {
   "cell_type": "code",
   "execution_count": 18,
   "metadata": {
    "collapsed": false
   },
   "outputs": [],
   "source": [
    "def graph_gen_w(word_list,extend_synonym_len = 2):\n",
    "    word_syn_pair = []\n",
    "    for word in word_list:\n",
    "        tmp = []\n",
    "        try:\n",
    "            s = d.synonym(word)\n",
    "        except:\n",
    "            pass\n",
    "        else:\n",
    "            #print word\n",
    "            if s>0:\n",
    "                for sword in s[:extend_synonym_len]:\n",
    "                    try:\n",
    "                        tmp += d.synonym(sword)\n",
    "                    except:\n",
    "                        pass\n",
    "                s = s+tmp+[word]\n",
    "                word_syn_pair.append((word,set(s)))\n",
    "        #return word_syn_pair\n",
    "    ## generate the graph from here\n",
    "    dic = defaultdict(dict)\n",
    "    for idx,item in enumerate(word_syn_pair):\n",
    "        dic[item[0]][item[0]] = 0\n",
    "        for idx2,item2 in enumerate(word_syn_pair[idx+1:]):\n",
    "            inter = item[1].intersection(item2[1])\n",
    "            if bool(inter):\n",
    "                dic[item[0]][item2[0]]= len(inter)\n",
    "                dic[item2[0]][item[0]]= len(inter)\n",
    "    return dic,word_syn_pair"
   ]
  },
  {
   "cell_type": "code",
   "execution_count": 19,
   "metadata": {
    "collapsed": false
   },
   "outputs": [],
   "source": [
    "d2 = [(key,len(d1[key]) )for key in d1]   \n",
    "## add len() filter here to get top K 可以在这里增加筛选，第二步排序会更快，且可以无论长短都取前K\n"
   ]
  },
  {
   "cell_type": "code",
   "execution_count": 20,
   "metadata": {
    "collapsed": false
   },
   "outputs": [
    {
     "data": {
      "text/plain": [
       "[(u'bed', 73),\n",
       " (u'it', 47),\n",
       " (u'i', 28),\n",
       " (u'fabric', 16),\n",
       " (u'color', 14),\n",
       " (u'headboard', 14),\n",
       " (u'price', 13),\n",
       " (u'quality', 10),\n",
       " (u'shipping', 8),\n",
       " (u'delivery', 7)]"
      ]
     },
     "execution_count": 20,
     "metadata": {},
     "output_type": "execute_result"
    }
   ],
   "source": [
    "d2 = sorted(d2,key = lambda x: x[1],reverse = 1);d2[:10]"
   ]
  },
  {
   "cell_type": "code",
   "execution_count": 22,
   "metadata": {
    "collapsed": false,
    "scrolled": true
   },
   "outputs": [
    {
     "data": {
      "text/plain": [
       "[u'excellent',\n",
       " u'great',\n",
       " u'beautiful',\n",
       " u'funny',\n",
       " u'amazing',\n",
       " u'great',\n",
       " u'gorgeous',\n",
       " u'beautiful',\n",
       " u'pretty',\n",
       " u'great',\n",
       " u'beautiful',\n",
       " u'gorgeous',\n",
       " u'fantastic',\n",
       " u'great',\n",
       " u'sturdy',\n",
       " u'sturdy',\n",
       " u'sturdy',\n",
       " u'great',\n",
       " u'beautiful',\n",
       " u'great',\n",
       " u'perfect',\n",
       " u'sturdy',\n",
       " u'big',\n",
       " u'beautiful',\n",
       " u'nice',\n",
       " u'perfect',\n",
       " u'beautiful',\n",
       " u'sturdy',\n",
       " u'beautiful',\n",
       " u'wonderful',\n",
       " u'great',\n",
       " u'awesome',\n",
       " u'beautiful',\n",
       " u'gorgeous',\n",
       " u'awesome',\n",
       " u'incredible',\n",
       " u'beautiful',\n",
       " u'gorgeous',\n",
       " u'gorgeous',\n",
       " u'awesome',\n",
       " u'great',\n",
       " u'sturdy',\n",
       " u'gorgeous',\n",
       " u'beautiful',\n",
       " u'beautiful',\n",
       " u'big',\n",
       " u'big',\n",
       " u'nice',\n",
       " u'awesome',\n",
       " u'great',\n",
       " u'solid',\n",
       " u'beautiful',\n",
       " u'perfect',\n",
       " u'sturdy',\n",
       " u'gorgeous',\n",
       " u'gorgeous',\n",
       " u'great',\n",
       " u'ok',\n",
       " u'sooooooo',\n",
       " u'gorgeous',\n",
       " u'sturdy',\n",
       " u'great',\n",
       " u'great',\n",
       " u'pretty',\n",
       " u'great',\n",
       " u'nice',\n",
       " u'fantastic',\n",
       " u'awesome',\n",
       " u'beautiful',\n",
       " u'sexy',\n",
       " u'awesme',\n",
       " u'beautiful',\n",
       " u'great']"
      ]
     },
     "execution_count": 22,
     "metadata": {},
     "output_type": "execute_result"
    }
   ],
   "source": [
    "obj = 'bed';d1[obj]"
   ]
  },
  {
   "cell_type": "code",
   "execution_count": 23,
   "metadata": {
    "collapsed": false,
    "scrolled": true
   },
   "outputs": [
    {
     "name": "stderr",
     "output_type": "stream",
     "text": [
      "C:\\Users\\sjiang\\AppData\\Local\\Continuum\\Anaconda2\\lib\\site-packages\\bs4\\__init__.py:166: UserWarning: No parser was explicitly specified, so I'm using the best available HTML parser for this system (\"lxml\"). This usually isn't a problem, but if you run this code on another system, or in a different virtual environment, it may use a different parser and behave differently.\n",
      "\n",
      "To get rid of this warning, change this:\n",
      "\n",
      " BeautifulSoup([your markup])\n",
      "\n",
      "to this:\n",
      "\n",
      " BeautifulSoup([your markup], \"lxml\")\n",
      "\n",
      "  markup_type=markup_type))\n"
     ]
    },
    {
     "name": "stdout",
     "output_type": "stream",
     "text": [
      "Error: A Term must be only a single word\n"
     ]
    }
   ],
   "source": [
    "graph,word_synlist = graph_gen_w(set(d1[obj]))"
   ]
  },
  {
   "cell_type": "code",
   "execution_count": 24,
   "metadata": {
    "collapsed": true
   },
   "outputs": [],
   "source": [
    "# save the graph and word synlist\n",
    "pd.to_pickle(graph,'graph for bed')\n",
    "pd.to_pickle(word_synlist,'word_synlist for bed')"
   ]
  },
  {
   "cell_type": "code",
   "execution_count": 25,
   "metadata": {
    "collapsed": false,
    "scrolled": true
   },
   "outputs": [
    {
     "data": {
      "text/plain": [
       "defaultdict(dict,\n",
       "            {u'amazing': {u'amazing': 0,\n",
       "              u'awesome': 4,\n",
       "              u'beautiful': 2,\n",
       "              u'fantastic': 2,\n",
       "              u'incredible': 6,\n",
       "              u'pretty': 2,\n",
       "              u'sexy': 2,\n",
       "              u'wonderful': 3},\n",
       "             u'awesme': {u'awesme': 0},\n",
       "             u'awesome': {u'amazing': 4,\n",
       "              u'awesome': 0,\n",
       "              u'beautiful': 6,\n",
       "              u'excellent': 2,\n",
       "              u'gorgeous': 2,\n",
       "              u'perfect': 2,\n",
       "              u'pretty': 6,\n",
       "              u'sexy': 2,\n",
       "              u'sturdy': 1,\n",
       "              u'wonderful': 2},\n",
       "             u'beautiful': {u'amazing': 2,\n",
       "              u'awesome': 6,\n",
       "              u'beautiful': 0,\n",
       "              u'excellent': 2,\n",
       "              u'gorgeous': 1,\n",
       "              u'perfect': 1,\n",
       "              u'pretty': 10,\n",
       "              u'sexy': 3,\n",
       "              u'wonderful': 1},\n",
       "             u'big': {u'big': 0, u'excellent': 1, u'gorgeous': 1, u'great': 8},\n",
       "             u'excellent': {u'awesome': 2,\n",
       "              u'beautiful': 2,\n",
       "              u'big': 1,\n",
       "              u'excellent': 0,\n",
       "              u'great': 1,\n",
       "              u'nice': 1,\n",
       "              u'perfect': 2,\n",
       "              u'pretty': 2,\n",
       "              u'wonderful': 2},\n",
       "             u'fantastic': {u'amazing': 2,\n",
       "              u'fantastic': 0,\n",
       "              u'funny': 1,\n",
       "              u'incredible': 2,\n",
       "              u'wonderful': 6},\n",
       "             u'funny': {u'fantastic': 1, u'funny': 0, u'incredible': 1},\n",
       "             u'gorgeous': {u'awesome': 2,\n",
       "              u'beautiful': 1,\n",
       "              u'big': 1,\n",
       "              u'gorgeous': 0,\n",
       "              u'great': 1,\n",
       "              u'perfect': 3,\n",
       "              u'pretty': 1},\n",
       "             u'great': {u'big': 8,\n",
       "              u'excellent': 1,\n",
       "              u'gorgeous': 1,\n",
       "              u'great': 0},\n",
       "             u'incredible': {u'amazing': 6,\n",
       "              u'fantastic': 2,\n",
       "              u'funny': 1,\n",
       "              u'incredible': 0,\n",
       "              u'wonderful': 2},\n",
       "             u'nice': {u'excellent': 1, u'nice': 0, u'ok': 2, u'sexy': 1},\n",
       "             u'ok': {u'nice': 2, u'ok': 0, u'sexy': 1},\n",
       "             u'perfect': {u'awesome': 2,\n",
       "              u'beautiful': 1,\n",
       "              u'excellent': 2,\n",
       "              u'gorgeous': 3,\n",
       "              u'perfect': 0,\n",
       "              u'pretty': 2},\n",
       "             u'pretty': {u'amazing': 2,\n",
       "              u'awesome': 6,\n",
       "              u'beautiful': 10,\n",
       "              u'excellent': 2,\n",
       "              u'gorgeous': 1,\n",
       "              u'perfect': 2,\n",
       "              u'pretty': 0,\n",
       "              u'sexy': 1,\n",
       "              u'wonderful': 1},\n",
       "             u'sexy': {u'amazing': 2,\n",
       "              u'awesome': 2,\n",
       "              u'beautiful': 3,\n",
       "              u'nice': 1,\n",
       "              u'ok': 1,\n",
       "              u'pretty': 1,\n",
       "              u'sexy': 0},\n",
       "             u'solid': {u'solid': 0, u'sturdy': 6},\n",
       "             u'sooooooo': {u'sooooooo': 0},\n",
       "             u'sturdy': {u'awesome': 1, u'solid': 6, u'sturdy': 0},\n",
       "             u'wonderful': {u'amazing': 3,\n",
       "              u'awesome': 2,\n",
       "              u'beautiful': 1,\n",
       "              u'excellent': 2,\n",
       "              u'fantastic': 6,\n",
       "              u'incredible': 2,\n",
       "              u'pretty': 1,\n",
       "              u'wonderful': 0}})"
      ]
     },
     "execution_count": 25,
     "metadata": {},
     "output_type": "execute_result"
    }
   ],
   "source": [
    "graph"
   ]
  },
  {
   "cell_type": "markdown",
   "metadata": {},
   "source": [
    "# find out all the connect set for given graph"
   ]
  },
  {
   "cell_type": "code",
   "execution_count": 26,
   "metadata": {
    "collapsed": true
   },
   "outputs": [],
   "source": [
    "def dfs2(graph, start, weight=0):\n",
    "    visited, stack = set(), [start]\n",
    "    while stack:\n",
    "        vertex = stack.pop()\n",
    "        if vertex not in visited:\n",
    "            visited.add(vertex)\n",
    "            neibor = graph[vertex]\n",
    "            candy = set([i[0] for i in neibor.items() if i[1]>weight])\n",
    "            stack.extend(candy - visited)\n",
    "    return visited"
   ]
  },
  {
   "cell_type": "code",
   "execution_count": 30,
   "metadata": {
    "collapsed": false,
    "scrolled": true
   },
   "outputs": [
    {
     "data": {
      "text/plain": [
       "{u'amazing',\n",
       " u'awesme',\n",
       " u'awesome',\n",
       " u'beautiful',\n",
       " u'big',\n",
       " u'excellent',\n",
       " u'fantastic',\n",
       " u'funny',\n",
       " u'gorgeous',\n",
       " u'great',\n",
       " u'incredible',\n",
       " u'nice',\n",
       " u'ok',\n",
       " u'perfect',\n",
       " u'pretty',\n",
       " u'sexy',\n",
       " u'solid',\n",
       " u'sooooooo',\n",
       " u'sturdy',\n",
       " u'wonderful'}"
      ]
     },
     "execution_count": 30,
     "metadata": {},
     "output_type": "execute_result"
    }
   ],
   "source": [
    "f = set(graph.keys());f"
   ]
  },
  {
   "cell_type": "markdown",
   "metadata": {},
   "source": [
    "# fuction to find connect set in the graph"
   ]
  },
  {
   "cell_type": "code",
   "execution_count": 31,
   "metadata": {
    "collapsed": false
   },
   "outputs": [
    {
     "name": "stdout",
     "output_type": "stream",
     "text": [
      "set([u'beautiful', u'perfect', u'fantastic', u'incredible', u'awesome', u'gorgeous', u'amazing', u'wonderful', u'pretty', u'excellent', u'sexy'])\n",
      "set([u'funny'])\n",
      "set([u'big', u'great'])\n",
      "set([u'ok', u'nice'])\n",
      "set([u'solid', u'sturdy'])\n",
      "set([u'awesme'])\n",
      "set([u'sooooooo'])\n"
     ]
    }
   ],
   "source": [
    "### package it into a function\n",
    "\n",
    "f = set(graph.keys())\n",
    "group_list = []\n",
    "while bool(f):\n",
    "    t = f.pop()\n",
    "    c = dfs2(graph,t,1)\n",
    "    \n",
    "    f = f-c\n",
    "    group_list.append(c)\n",
    "    print c"
   ]
  },
  {
   "cell_type": "markdown",
   "metadata": {},
   "source": [
    "# find representive word using frequent"
   ]
  },
  {
   "cell_type": "code",
   "execution_count": 32,
   "metadata": {
    "collapsed": false
   },
   "outputs": [],
   "source": [
    "def rep_word(obj,group_list,filt = 0.1):\n",
    "    c = Counter(d1[obj])\n",
    "    total = sum(c.values())\n",
    "    print total\n",
    "    for group in group_list:\n",
    "        group = list(group)\n",
    "        max_word = group[0]\n",
    "        max_count = c[group[0]]\n",
    "        grp_count = 0\n",
    "        \n",
    "        for word in group:\n",
    "            word_count = c[word]\n",
    "            grp_count +=word_count\n",
    "            if word_count > max_count:\n",
    "                max_word = word\n",
    "                max_count = word_count\n",
    "        print group,grp_count\n",
    "        if grp_count > total * filt:\n",
    "            print max_word"
   ]
  },
  {
   "cell_type": "code",
   "execution_count": 33,
   "metadata": {
    "collapsed": false,
    "scrolled": true
   },
   "outputs": [
    {
     "name": "stdout",
     "output_type": "stream",
     "text": [
      "73\n",
      "[u'beautiful', u'perfect', u'fantastic', u'incredible', u'awesome', u'gorgeous', u'amazing', u'wonderful', u'pretty', u'excellent', u'sexy'] 40\n",
      "beautiful\n",
      "[u'funny'] 1\n",
      "[u'big', u'great'] 17\n",
      "great\n",
      "[u'ok', u'nice'] 4\n",
      "nice\n",
      "[u'solid', u'sturdy'] 9\n",
      "sturdy\n",
      "[u'awesme'] 1\n",
      "[u'sooooooo'] 1\n"
     ]
    }
   ],
   "source": [
    "rep_word(obj,group_list,filt = 0.05)"
   ]
  }
 ],
 "metadata": {
  "kernelspec": {
   "display_name": "Python 2",
   "language": "python",
   "name": "python2"
  },
  "language_info": {
   "codemirror_mode": {
    "name": "ipython",
    "version": 2
   },
   "file_extension": ".py",
   "mimetype": "text/x-python",
   "name": "python",
   "nbconvert_exporter": "python",
   "pygments_lexer": "ipython2",
   "version": "2.7.11"
  }
 },
 "nbformat": 4,
 "nbformat_minor": 0
}
