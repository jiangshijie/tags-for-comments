{
 "cells": [
  {
   "cell_type": "code",
   "execution_count": 1,
   "metadata": {
    "collapsed": true
   },
   "outputs": [],
   "source": [
    "import pandas as pd\n",
    "import numpy as np\n",
    "import requests\n",
    "import re\n",
    "from tqdm import tqdm\n",
    "from time import sleep\n"
   ]
  },
  {
   "cell_type": "code",
   "execution_count": null,
   "metadata": {
    "collapsed": false
   },
   "outputs": [],
   "source": [
    "with open(r'd:\\asn num with name.txt') as f:\n",
    "    tt =f.readlines()"
   ]
  },
  {
   "cell_type": "code",
   "execution_count": null,
   "metadata": {
    "collapsed": false
   },
   "outputs": [],
   "source": [
    "tmp = [x for x in tt if \n",
    "       (x.find('University')>0 \n",
    "        or x.find('College')>0 \n",
    "        or x.find('School')>0\n",
    "        or x.find('Polytechnic Institute')>0\n",
    "        or x.find('Institute of Technology')>0) and x.endswith('US\\n')]"
   ]
  },
  {
   "cell_type": "code",
   "execution_count": null,
   "metadata": {
    "collapsed": false
   },
   "outputs": [],
   "source": [
    "ANS = [t.split(' ')[0] for t in tmp]"
   ]
  },
  {
   "cell_type": "code",
   "execution_count": null,
   "metadata": {
    "collapsed": false
   },
   "outputs": [],
   "source": [
    "len(ANS)"
   ]
  },
  {
   "cell_type": "code",
   "execution_count": null,
   "metadata": {
    "collapsed": false
   },
   "outputs": [],
   "source": [
    "ANS[-10:]"
   ]
  },
  {
   "cell_type": "code",
   "execution_count": null,
   "metadata": {
    "collapsed": false
   },
   "outputs": [],
   "source": [
    "base = 'http://whois.arin.net/rest/asn/'\n",
    "p = re.compile(r'<orgRef handle=\"(.*)\" name=\"(.*)\">(https://whois.arin.net/rest/org/.*)</orgRef>')\n",
    "p2 = re.compile(r'(25[0-5]|2[0-4]\\d|[0-1]\\d{2}|[1-9]?\\d)\\.(25[0-5]|2[0-4]\\d|[0-1]\\d{2}|[1-9]?\\d)\\.(25[0-5]|2[0-4]\\d|[0-1]\\d{2}|[1-9]?\\d)\\.(25[0-5]|2[0-4]\\d|[0-1]\\d{2}|[1-9]?\\d)')\n",
    "\n",
    "#l = []\n",
    "asn_list = [i[0] for i in l]\n",
    "\n",
    "for asn in tqdm(ANS):\n",
    "    if asn not in asn_list:\n",
    "        # get the org handle, name, net_url use ans\n",
    "        url1 = base + asn\n",
    "        tmp = requests.get(url1)\n",
    "        match = p.findall(tmp.text)\n",
    "        handle,name,url2 = match[0]\n",
    "        url2 = url2 + r'/nets'\n",
    "\n",
    "        #get the net range use net_url\n",
    "        tmp2 = requests.get(url2)\n",
    "        match2 = p2.findall(tmp2.text)\n",
    "\n",
    "        #re arrange the ip\n",
    "        idx = range(0,len(match2),2)\n",
    "        rg = [('.'.join(match2[i+1]),'.'.join(match2[i])) for i in idx]\n",
    "\n",
    "        # merge the ANS, handle, name and range in a list\n",
    "        l.append([asn,handle,name,rg])\n",
    "        sleep(1)\n",
    "        asn_list.append(asn)\n"
   ]
  },
  {
   "cell_type": "code",
   "execution_count": null,
   "metadata": {
    "collapsed": false
   },
   "outputs": [],
   "source": [
    "len(l),len(asn_list)"
   ]
  },
  {
   "cell_type": "code",
   "execution_count": null,
   "metadata": {
    "collapsed": true
   },
   "outputs": [],
   "source": [
    "l[-5:],asn_list[-5:]"
   ]
  },
  {
   "cell_type": "code",
   "execution_count": null,
   "metadata": {
    "collapsed": false
   },
   "outputs": [],
   "source": [
    "l[:10]"
   ]
  },
  {
   "cell_type": "code",
   "execution_count": null,
   "metadata": {
    "collapsed": false
   },
   "outputs": [],
   "source": [
    "df = pd.DataFrame(l,columns = ['asn','handle','name','range'])"
   ]
  },
  {
   "cell_type": "code",
   "execution_count": null,
   "metadata": {
    "collapsed": false
   },
   "outputs": [],
   "source": [
    "df.head(10)"
   ]
  },
  {
   "cell_type": "code",
   "execution_count": null,
   "metadata": {
    "collapsed": false
   },
   "outputs": [],
   "source": [
    "len(df.iloc[2,:]['range'])"
   ]
  },
  {
   "cell_type": "code",
   "execution_count": null,
   "metadata": {
    "collapsed": false,
    "scrolled": false
   },
   "outputs": [],
   "source": [
    "df[df['name'].isin(['Harvard University'])]"
   ]
  },
  {
   "cell_type": "code",
   "execution_count": null,
   "metadata": {
    "collapsed": true
   },
   "outputs": [],
   "source": [
    "df[(df.name.str.find('School District')>0)]"
   ]
  },
  {
   "cell_type": "code",
   "execution_count": null,
   "metadata": {
    "collapsed": false
   },
   "outputs": [],
   "source": [
    "# remove School District\n",
    "df = df[~(df.name.str.find('School District')>0)]"
   ]
  },
  {
   "cell_type": "code",
   "execution_count": null,
   "metadata": {
    "collapsed": false
   },
   "outputs": [],
   "source": [
    "df.to_pickle(r'd:\\asn handle name range for 1231 university')"
   ]
  },
  {
   "cell_type": "code",
   "execution_count": null,
   "metadata": {
    "collapsed": false
   },
   "outputs": [],
   "source": [
    "df.to_csv(r'd:\\asn handle name range for 1231 university.csv')"
   ]
  },
  {
   "cell_type": "code",
   "execution_count": null,
   "metadata": {
    "collapsed": false
   },
   "outputs": [],
   "source": [
    "r_list = reduce(lambda x,y:x+y,df['range'].values);r_list[:20]"
   ]
  },
  {
   "cell_type": "code",
   "execution_count": null,
   "metadata": {
    "collapsed": false
   },
   "outputs": [],
   "source": [
    "r_set = set(r_list)"
   ]
  },
  {
   "cell_type": "code",
   "execution_count": null,
   "metadata": {
    "collapsed": false
   },
   "outputs": [],
   "source": [
    "len(r_list),len(r_set)"
   ]
  },
  {
   "cell_type": "code",
   "execution_count": null,
   "metadata": {
    "collapsed": true
   },
   "outputs": [],
   "source": [
    "def gen_ip3(ip_range):\n",
    "    ip_list = []\n",
    "    start,end = ip_range\n",
    "    zone = zip(map(int,start.split('.')),map(int,end.split('.')))\n",
    "    for i in range(zone[0][0],zone[0][1]+1):\n",
    "        for j in range(zone[1][0],zone[1][1]+1):\n",
    "            for k in range(zone[2][0],zone[2][1]+1):\n",
    "                ip_list.append(\".\".join(map(str,[i,j,k])))\n",
    "    return ip_list\n"
   ]
  },
  {
   "cell_type": "code",
   "execution_count": 2,
   "metadata": {
    "collapsed": true
   },
   "outputs": [],
   "source": [
    "def gen_ip4(ip_range):\n",
    "    ip_list = []\n",
    "    start,end = ip_range\n",
    "    zone = zip(map(int,start.split('.')),map(int,end.split('.')))\n",
    "    for i in range(zone[0][0],zone[0][1]+1):\n",
    "        for j in range(zone[1][0],zone[1][1]+1):\n",
    "            for k in range(zone[2][0],zone[2][1]+1):\n",
    "                for l in range(zone[3][0],zone[3][1]+1):\n",
    "                    ip_list.append(\".\".join(map(str,[i,j,k,l])))\n",
    "    return ip_list"
   ]
  },
  {
   "cell_type": "code",
   "execution_count": null,
   "metadata": {
    "collapsed": true
   },
   "outputs": [],
   "source": [
    "## generate a full ip list which is 54,356,055 rows\n",
    "ip4_list = []\n",
    "for i in r_set:\n",
    "    ip4_list += gen_ip4(i)"
   ]
  },
  {
   "cell_type": "code",
   "execution_count": null,
   "metadata": {
    "collapsed": false
   },
   "outputs": [],
   "source": [
    "with open(r'd:\\4ip_list.txt','w') as f:\n",
    "    for i in ip4_list:\n",
    "        f.write(i+'\\n')"
   ]
  },
  {
   "cell_type": "code",
   "execution_count": null,
   "metadata": {
    "collapsed": false,
    "scrolled": true
   },
   "outputs": [],
   "source": [
    "ip4_list[-1]"
   ]
  },
  {
   "cell_type": "markdown",
   "metadata": {},
   "source": [
    "# this is for get org names and ip"
   ]
  },
  {
   "cell_type": "code",
   "execution_count": 3,
   "metadata": {
    "collapsed": false
   },
   "outputs": [
    {
     "data": {
      "text/html": [
       "<div>\n",
       "<table border=\"1\" class=\"dataframe\">\n",
       "  <thead>\n",
       "    <tr style=\"text-align: right;\">\n",
       "      <th></th>\n",
       "      <th>Unnamed: 0</th>\n",
       "      <th>asn</th>\n",
       "      <th>handle</th>\n",
       "      <th>name</th>\n",
       "      <th>range</th>\n",
       "    </tr>\n",
       "  </thead>\n",
       "  <tbody>\n",
       "    <tr>\n",
       "      <th>0</th>\n",
       "      <td>0</td>\n",
       "      <td>AS2</td>\n",
       "      <td>UNIVER-19</td>\n",
       "      <td>University of Delaware</td>\n",
       "      <td>[(u'207.123.196.0', u'207.123.196.255'), (u'19...</td>\n",
       "    </tr>\n",
       "    <tr>\n",
       "      <th>1</th>\n",
       "      <td>1</td>\n",
       "      <td>AS3</td>\n",
       "      <td>MIT-2</td>\n",
       "      <td>Massachusetts Institute of Technology</td>\n",
       "      <td>[(u'128.30.0.0', u'128.30.255.255'), (u'128.31...</td>\n",
       "    </tr>\n",
       "    <tr>\n",
       "      <th>2</th>\n",
       "      <td>2</td>\n",
       "      <td>AS4</td>\n",
       "      <td>USC-32</td>\n",
       "      <td>University of Southern California</td>\n",
       "      <td>[]</td>\n",
       "    </tr>\n",
       "    <tr>\n",
       "      <th>3</th>\n",
       "      <td>3</td>\n",
       "      <td>AS8</td>\n",
       "      <td>RICEUN</td>\n",
       "      <td>Rice University</td>\n",
       "      <td>[(u'192.31.145.0', u'192.31.145.255'), (u'192....</td>\n",
       "    </tr>\n",
       "    <tr>\n",
       "      <th>4</th>\n",
       "      <td>4</td>\n",
       "      <td>AS9</td>\n",
       "      <td>CARNEG-Z</td>\n",
       "      <td>Carnegie Mellon University</td>\n",
       "      <td>[(u'192.58.107.0', u'192.58.107.255'), (u'192....</td>\n",
       "    </tr>\n",
       "  </tbody>\n",
       "</table>\n",
       "</div>"
      ],
      "text/plain": [
       "   Unnamed: 0  asn     handle                                   name  \\\n",
       "0           0  AS2  UNIVER-19                 University of Delaware   \n",
       "1           1  AS3      MIT-2  Massachusetts Institute of Technology   \n",
       "2           2  AS4     USC-32      University of Southern California   \n",
       "3           3  AS8     RICEUN                        Rice University   \n",
       "4           4  AS9   CARNEG-Z             Carnegie Mellon University   \n",
       "\n",
       "                                               range  \n",
       "0  [(u'207.123.196.0', u'207.123.196.255'), (u'19...  \n",
       "1  [(u'128.30.0.0', u'128.30.255.255'), (u'128.31...  \n",
       "2                                                 []  \n",
       "3  [(u'192.31.145.0', u'192.31.145.255'), (u'192....  \n",
       "4  [(u'192.58.107.0', u'192.58.107.255'), (u'192....  "
      ]
     },
     "execution_count": 3,
     "metadata": {},
     "output_type": "execute_result"
    }
   ],
   "source": [
    "df = pd.read_csv(r'd:\\asn handle name range for 1231 university.csv');\n",
    "df.head()"
   ]
  },
  {
   "cell_type": "code",
   "execution_count": 4,
   "metadata": {
    "collapsed": false
   },
   "outputs": [
    {
     "data": {
      "text/plain": [
       "array(['University of Delaware', 'Massachusetts Institute of Technology',\n",
       "       'University of Southern California', 'Rice University',\n",
       "       'Carnegie Mellon University'], dtype=object)"
      ]
     },
     "execution_count": 4,
     "metadata": {},
     "output_type": "execute_result"
    }
   ],
   "source": [
    "name_list = df.name.unique();\n",
    "name_list[:5]"
   ]
  },
  {
   "cell_type": "code",
   "execution_count": 18,
   "metadata": {
    "collapsed": false
   },
   "outputs": [
    {
     "data": {
      "text/html": [
       "<div>\n",
       "<table border=\"1\" class=\"dataframe\">\n",
       "  <thead>\n",
       "    <tr style=\"text-align: right;\">\n",
       "      <th></th>\n",
       "      <th>0</th>\n",
       "    </tr>\n",
       "  </thead>\n",
       "  <tbody>\n",
       "    <tr>\n",
       "      <th>Collin County Community College District</th>\n",
       "      <td>192.231.40.0</td>\n",
       "    </tr>\n",
       "    <tr>\n",
       "      <th>Collin County Community College District</th>\n",
       "      <td>192.231.40.1</td>\n",
       "    </tr>\n",
       "    <tr>\n",
       "      <th>Collin County Community College District</th>\n",
       "      <td>192.231.40.2</td>\n",
       "    </tr>\n",
       "    <tr>\n",
       "      <th>Collin County Community College District</th>\n",
       "      <td>192.231.40.3</td>\n",
       "    </tr>\n",
       "    <tr>\n",
       "      <th>Collin County Community College District</th>\n",
       "      <td>192.231.40.4</td>\n",
       "    </tr>\n",
       "  </tbody>\n",
       "</table>\n",
       "</div>"
      ],
      "text/plain": [
       "                                                     0\n",
       "Collin County Community College District  192.231.40.0\n",
       "Collin County Community College District  192.231.40.1\n",
       "Collin County Community College District  192.231.40.2\n",
       "Collin County Community College District  192.231.40.3\n",
       "Collin County Community College District  192.231.40.4"
      ]
     },
     "execution_count": 18,
     "metadata": {},
     "output_type": "execute_result"
    }
   ],
   "source": [
    "df_list = []\n",
    "for i in name_list:\n",
    "    for range_list in df[df.name == i].range.values:\n",
    "        t = eval(range_list)\n",
    "        for rg in t:\n",
    "            ip_list = gen_ip4(rg)\n",
    "            l = len(ip_list)\n",
    "            tmp_df = pd.DataFrame(ip_list,index = [i]*l)\n",
    "            df_list.append(tmp_df)\n",
    "tmp_df.head()"
   ]
  },
  {
   "cell_type": "code",
   "execution_count": 19,
   "metadata": {
    "collapsed": false,
    "scrolled": true
   },
   "outputs": [],
   "source": [
    "pd.concat(df_list).to_csv(r'd:\\new_org_ip.csv',header = False)"
   ]
  },
  {
   "cell_type": "code",
   "execution_count": 2,
   "metadata": {
    "collapsed": false
   },
   "outputs": [],
   "source": [
    "dff = pd.read_csv(r'd:\\new_org_ip.csv')"
   ]
  },
  {
   "cell_type": "code",
   "execution_count": 3,
   "metadata": {
    "collapsed": false
   },
   "outputs": [
    {
     "data": {
      "text/html": [
       "<div>\n",
       "<table border=\"1\" class=\"dataframe\">\n",
       "  <thead>\n",
       "    <tr style=\"text-align: right;\">\n",
       "      <th></th>\n",
       "      <th>University of Delaware</th>\n",
       "      <th>207.123.196.0</th>\n",
       "    </tr>\n",
       "  </thead>\n",
       "  <tbody>\n",
       "    <tr>\n",
       "      <th>0</th>\n",
       "      <td>University of Delaware</td>\n",
       "      <td>207.123.196.1</td>\n",
       "    </tr>\n",
       "    <tr>\n",
       "      <th>1</th>\n",
       "      <td>University of Delaware</td>\n",
       "      <td>207.123.196.2</td>\n",
       "    </tr>\n",
       "    <tr>\n",
       "      <th>2</th>\n",
       "      <td>University of Delaware</td>\n",
       "      <td>207.123.196.3</td>\n",
       "    </tr>\n",
       "    <tr>\n",
       "      <th>3</th>\n",
       "      <td>University of Delaware</td>\n",
       "      <td>207.123.196.4</td>\n",
       "    </tr>\n",
       "    <tr>\n",
       "      <th>4</th>\n",
       "      <td>University of Delaware</td>\n",
       "      <td>207.123.196.5</td>\n",
       "    </tr>\n",
       "  </tbody>\n",
       "</table>\n",
       "</div>"
      ],
      "text/plain": [
       "   University of Delaware  207.123.196.0\n",
       "0  University of Delaware  207.123.196.1\n",
       "1  University of Delaware  207.123.196.2\n",
       "2  University of Delaware  207.123.196.3\n",
       "3  University of Delaware  207.123.196.4\n",
       "4  University of Delaware  207.123.196.5"
      ]
     },
     "execution_count": 3,
     "metadata": {},
     "output_type": "execute_result"
    }
   ],
   "source": [
    "dff.head()"
   ]
  },
  {
   "cell_type": "code",
   "execution_count": 4,
   "metadata": {
    "collapsed": false
   },
   "outputs": [
    {
     "data": {
      "text/plain": [
       "89757464"
      ]
     },
     "execution_count": 4,
     "metadata": {},
     "output_type": "execute_result"
    }
   ],
   "source": [
    "len(dff)"
   ]
  },
  {
   "cell_type": "code",
   "execution_count": 67,
   "metadata": {
    "collapsed": false
   },
   "outputs": [
    {
     "data": {
      "text/plain": [
       "52537138"
      ]
     },
     "execution_count": 67,
     "metadata": {},
     "output_type": "execute_result"
    }
   ],
   "source": [
    "dff['207.123.196.0'].nunique()"
   ]
  },
  {
   "cell_type": "code",
   "execution_count": 33,
   "metadata": {
    "collapsed": true
   },
   "outputs": [],
   "source": [
    "df22 = dff.drop_duplicates(subset = '207.123.196.0')"
   ]
  },
  {
   "cell_type": "code",
   "execution_count": 65,
   "metadata": {
    "collapsed": false,
    "scrolled": true
   },
   "outputs": [
    {
     "data": {
      "text/html": [
       "<div>\n",
       "<table border=\"1\" class=\"dataframe\">\n",
       "  <thead>\n",
       "    <tr style=\"text-align: right;\">\n",
       "      <th></th>\n",
       "      <th>University of Delaware</th>\n",
       "      <th>207.123.196.0</th>\n",
       "    </tr>\n",
       "  </thead>\n",
       "  <tbody>\n",
       "    <tr>\n",
       "      <th>0</th>\n",
       "      <td>University of Delaware</td>\n",
       "      <td>207.123.196.1</td>\n",
       "    </tr>\n",
       "    <tr>\n",
       "      <th>1</th>\n",
       "      <td>University of Delaware</td>\n",
       "      <td>207.123.196.2</td>\n",
       "    </tr>\n",
       "    <tr>\n",
       "      <th>2</th>\n",
       "      <td>University of Delaware</td>\n",
       "      <td>207.123.196.3</td>\n",
       "    </tr>\n",
       "    <tr>\n",
       "      <th>3</th>\n",
       "      <td>University of Delaware</td>\n",
       "      <td>207.123.196.4</td>\n",
       "    </tr>\n",
       "    <tr>\n",
       "      <th>4</th>\n",
       "      <td>University of Delaware</td>\n",
       "      <td>207.123.196.5</td>\n",
       "    </tr>\n",
       "  </tbody>\n",
       "</table>\n",
       "</div>"
      ],
      "text/plain": [
       "   University of Delaware  207.123.196.0\n",
       "0  University of Delaware  207.123.196.1\n",
       "1  University of Delaware  207.123.196.2\n",
       "2  University of Delaware  207.123.196.3\n",
       "3  University of Delaware  207.123.196.4\n",
       "4  University of Delaware  207.123.196.5"
      ]
     },
     "execution_count": 65,
     "metadata": {},
     "output_type": "execute_result"
    }
   ],
   "source": [
    "df22.head()"
   ]
  },
  {
   "cell_type": "code",
   "execution_count": 66,
   "metadata": {
    "collapsed": false,
    "scrolled": true
   },
   "outputs": [
    {
     "data": {
      "text/plain": [
       "52537138"
      ]
     },
     "execution_count": 66,
     "metadata": {},
     "output_type": "execute_result"
    }
   ],
   "source": [
    "len(df22)"
   ]
  },
  {
   "cell_type": "code",
   "execution_count": 34,
   "metadata": {
    "collapsed": false
   },
   "outputs": [
    {
     "data": {
      "text/plain": [
       "52537138"
      ]
     },
     "execution_count": 34,
     "metadata": {},
     "output_type": "execute_result"
    }
   ],
   "source": [
    "len(df22)"
   ]
  },
  {
   "cell_type": "code",
   "execution_count": 64,
   "metadata": {
    "collapsed": false,
    "scrolled": true
   },
   "outputs": [],
   "source": [
    "df22.to_csv(r'd:\\org_ip.csv',index = False,header = False,sep = \"|\")"
   ]
  },
  {
   "cell_type": "code",
   "execution_count": 63,
   "metadata": {
    "collapsed": true
   },
   "outputs": [],
   "source": [
    "df22.head().to_csv(r'd:\\test_org_ip.csv',index = False,header = False,sep = \"|\")"
   ]
  },
  {
   "cell_type": "code",
   "execution_count": null,
   "metadata": {
    "collapsed": true
   },
   "outputs": [],
   "source": []
  }
 ],
 "metadata": {
  "kernelspec": {
   "display_name": "Python 2",
   "language": "python",
   "name": "python2"
  },
  "language_info": {
   "codemirror_mode": {
    "name": "ipython",
    "version": 2
   },
   "file_extension": ".py",
   "mimetype": "text/x-python",
   "name": "python",
   "nbconvert_exporter": "python",
   "pygments_lexer": "ipython2",
   "version": "2.7.11"
  }
 },
 "nbformat": 4,
 "nbformat_minor": 0
}
